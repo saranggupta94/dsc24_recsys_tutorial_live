{
 "cells": [
  {
   "cell_type": "markdown",
   "id": "1e12cbca-e05b-4e41-8c0a-4d48fd4079c6",
   "metadata": {},
   "source": [
    "### Evaluation Metrics for Recommender Systems\n",
    "\n",
    "### Error-based Metrics\n",
    "\n",
    "### Root Mean Square Error (RMSE)\n",
    "RMSE is one of the most popular metrics for evaluating the accuracy of predicted ratings in recommender systems. It emphasizes larger errors by squaring them before taking the mean, making it particularly sensitive to outliers.\n",
    "\n",
    "The formula for RMSE is:\n",
    "\n",
    "$$\n",
    "RMSE = \\sqrt{\\frac{1}{N}\\sum_{i=1}^{N}(x_i - \\hat{x_i})^2}\n",
    "$$\n",
    "\n",
    "\n",
    "### Mean Absolute Error (MAE)\n",
    "MAE measures the average magnitude of errors without considering their direction. Unlike RMSE, it treats all errors on a linear scale.\n",
    "\n",
    "$$\n",
    "MAE = \\frac{1}{N}\\sum_{i=1}^{N}|x_i - \\hat{x_i}|\n",
    "$$\n",
    "\n",
    "## Ranking-based Metrics\n",
    "\n",
    "### Precision\n",
    "Precision measures the proportion of relevant items among all recommended items:\n",
    "\n",
    "$$\n",
    "Precision@k = \\frac{\\text{number of relevant items @k}}{\\text{total number of recommended items @k}}\n",
    "$$\n",
    "\n",
    "### Recall\n",
    "Recall measures the proportion of relevant items that were successfully recommended:\n",
    "\n",
    "$$\n",
    "Recall@k = \\frac{\\text{number of relevant items @k}}{\\text{total number of relevant items}}\n",
    "$$\n",
    "\n",
    "### Normalized Discounted Cumulative Gain (NDCG)\n",
    "NDCG measures the quality of ranking by considering both the relevance and position of recommendations. It penalizes highly relevant items appearing lower in the recommendation list.\n",
    "\n",
    "$$\n",
    "DCG@k = \\sum_{i=1}^k \\frac{2^{rel_i} - 1}{\\log_2(i + 1)}\n",
    "$$\n",
    "\n",
    "$$\n",
    "NDCG@k = \\frac{DCG@k}{IDCG@k}\n",
    "$$\n",
    "\n",
    "where:\n",
    "$$rel_i \\text{: the relevance score of item at position i}$$\n",
    "$$IDCG@k \\text{: the DCG@k of the ideal ranking}$$\n",
    "\n",
    "### Coverage and Diversity Metrics\n",
    "\n",
    "### Catalog Coverage\n",
    "Measures the percentage of items that the system is able to recommend:\n",
    "\n",
    "$$\n",
    "Coverage = \\frac{\\text{number of items that can be recommended}}{\\text{total number of items}} \\times 100\\%\n",
    "$$\n",
    "\n",
    "### User Coverage\n",
    "Measures the percentage of users for whom the system can make recommendations:\n",
    "\n",
    "$$\n",
    "User Coverage = \\frac{\\text{number of users who receive recommendations}}{\\text{total number of users}} \\times 100\\%\n",
    "$$"
   ]
  },
  {
   "cell_type": "code",
   "execution_count": 12,
   "id": "f2a5c24b-80e7-4f0e-b70c-f4b1e2fa00be",
   "metadata": {},
   "outputs": [],
   "source": [
    "import pandas as pd\n",
    "import numpy as np\n",
    "from sklearn.metrics import mean_squared_error\n",
    "from sklearn.model_selection import train_test_split\n",
    "from sklearn.metrics.pairwise import cosine_similarity\n",
    "from sklearn.decomposition import NMF"
   ]
  },
  {
   "cell_type": "code",
   "execution_count": 13,
   "id": "2df70a4c-61d4-4622-94a8-32974320cf43",
   "metadata": {},
   "outputs": [],
   "source": [
    "ratings_df = pd.read_csv('data-1m/ratings.csv', \n",
    "                         sep='\\t',\n",
    "                         encoding='latin-1',\n",
    "                         engine='python',\n",
    "                         index_col=0)"
   ]
  },
  {
   "cell_type": "code",
   "execution_count": 17,
   "id": "57aaeba4-f32e-4994-a966-a3a5b853e802",
   "metadata": {},
   "outputs": [
    {
     "name": "stdout",
     "output_type": "stream",
     "text": [
      "Sampling data...\n"
     ]
    }
   ],
   "source": [
    "# Take a random sample\n",
    "print(\"Sampling data...\")\n",
    "sample_size = 100000\n",
    "ratings_sample = ratings_df.sample(n=sample_size, random_state=42)\n",
    "\n",
    "# Split the data using sklearn's train_test_split\n",
    "train_data, test_data = train_test_split(\n",
    "    ratings_sample, \n",
    "    test_size=0.2, \n",
    "    random_state=42\n",
    ")\n",
    "\n",
    "# Create rating matrix for training\n",
    "rating_matrix = train_data.pivot(\n",
    "    index='user_id',\n",
    "    columns='movie_id',\n",
    "    values='rating'\n",
    ")\n",
    "\n",
    "# Fill NaN with mean rating for each movie\n",
    "movie_means = rating_matrix.mean()\n",
    "rating_matrix = rating_matrix.fillna(movie_means)"
   ]
  },
  {
   "cell_type": "code",
   "execution_count": 18,
   "id": "5facc9c3-aa2a-49e6-aafd-44ebb80949ec",
   "metadata": {},
   "outputs": [],
   "source": [
    "def predict_rating_useruser(user_id, movie_id, rating_matrix, user_sim, n_neighbors=5):\n",
    "    if user_id not in rating_matrix.index or movie_id not in rating_matrix.columns:\n",
    "        return None\n",
    "        \n",
    "    user_idx = rating_matrix.index.get_loc(user_id)\n",
    "    sim_scores = user_sim[user_idx]\n",
    "    \n",
    "    movie_ratings = rating_matrix[movie_id]\n",
    "    rated_mask = movie_ratings > 0\n",
    "    \n",
    "    if not rated_mask.any():\n",
    "        return None\n",
    "        \n",
    "    sim_users = sim_scores[rated_mask]\n",
    "    ratings = movie_ratings[rated_mask]\n",
    "    \n",
    "    top_indices = np.argsort(sim_users)[-n_neighbors:]\n",
    "    weights = sim_users[top_indices]\n",
    "    \n",
    "    if weights.sum() == 0:\n",
    "        return None\n",
    "        \n",
    "    pred = np.average(ratings.iloc[top_indices], weights=weights)\n",
    "    return pred"
   ]
  },
  {
   "cell_type": "code",
   "execution_count": 19,
   "id": "7b0e484e-b09e-4e3a-9a25-323db7a2512e",
   "metadata": {},
   "outputs": [
    {
     "name": "stdout",
     "output_type": "stream",
     "text": [
      "Computing user similarities...\n",
      "Training NMF model...\n"
     ]
    },
    {
     "name": "stderr",
     "output_type": "stream",
     "text": [
      "/opt/anaconda3/envs/venv1/lib/python3.12/site-packages/sklearn/decomposition/_nmf.py:1759: ConvergenceWarning: Maximum number of iterations 300 reached. Increase it to improve convergence.\n",
      "  warnings.warn(\n"
     ]
    }
   ],
   "source": [
    "# User-User CF\n",
    "print(\"Computing user similarities...\")\n",
    "user_sim = cosine_similarity(rating_matrix)\n",
    "\n",
    "# NMF\n",
    "print(\"Training NMF model...\")\n",
    "nmf = NMF(\n",
    "    n_components=15,\n",
    "    init='nndsvd',\n",
    "    solver='cd',\n",
    "    random_state=42,\n",
    "    max_iter=300\n",
    ")\n",
    "\n",
    "# Fit NMF model\n",
    "W = nmf.fit_transform(rating_matrix)\n",
    "H = nmf.components_\n",
    "\n"
   ]
  },
  {
   "cell_type": "code",
   "execution_count": 20,
   "id": "1b176b24-080c-45c4-90b6-f5edaf7d84da",
   "metadata": {},
   "outputs": [
    {
     "name": "stdout",
     "output_type": "stream",
     "text": [
      "Making predictions...\n"
     ]
    }
   ],
   "source": [
    "print(\"Making predictions...\")\n",
    "uu_predictions = []\n",
    "nmf_predictions = []\n",
    "actuals = []\n",
    "\n",
    "for _, row in test_data.iterrows():\n",
    "    user_id = row['user_id']\n",
    "    movie_id = row['movie_id']\n",
    "    actual_rating = row['rating']\n",
    "    \n",
    "    # Skip if user or movie not in training data\n",
    "    if user_id not in rating_matrix.index or movie_id not in rating_matrix.columns:\n",
    "        continue\n",
    "        \n",
    "    # User-User CF prediction\n",
    "    uu_pred = predict_rating_useruser(user_id, movie_id, rating_matrix, user_sim)\n",
    "    \n",
    "    # NMF prediction\n",
    "    if uu_pred is not None:\n",
    "        user_idx = rating_matrix.index.get_loc(user_id)\n",
    "        movie_idx = rating_matrix.columns.get_loc(movie_id)\n",
    "        \n",
    "        # Compute NMF prediction\n",
    "        nmf_pred = W[user_idx].dot(H[:, movie_idx])\n",
    "        \n",
    "        # Clip to valid rating range\n",
    "        nmf_pred = np.clip(nmf_pred, 1, 5)\n",
    "        \n",
    "        uu_predictions.append(uu_pred)\n",
    "        nmf_predictions.append(nmf_pred)\n",
    "        actuals.append(actual_rating)"
   ]
  },
  {
   "cell_type": "code",
   "execution_count": 21,
   "id": "728e0c2c-cb75-4245-8bf6-108b9158699e",
   "metadata": {},
   "outputs": [
    {
     "name": "stdout",
     "output_type": "stream",
     "text": [
      "\n",
      "Results:\n",
      "Number of predictions: 19863\n",
      "User-User CF RMSE: 1.0020\n",
      "NMF RMSE: 0.9994\n",
      "\n",
      "Sample predictions:\n",
      "User ID  Movie ID  Actual  User-User  NMF\n",
      "--------------------------------------------------\n",
      "   5086      1282     2.0       3.93    3.96\n",
      "   4715      1231     5.0       4.03    4.02\n",
      "   4009      2898     1.0       2.60    2.60\n",
      "   2166      3948     3.0       3.80    3.82\n",
      "   4928      3072     3.0       3.73    3.72\n"
     ]
    }
   ],
   "source": [
    "# Calculate RMSE\n",
    "uu_rmse = np.sqrt(mean_squared_error(actuals, uu_predictions))\n",
    "nmf_rmse = np.sqrt(mean_squared_error(actuals, nmf_predictions))\n",
    "\n",
    "print(\"\\nResults:\")\n",
    "print(f\"Number of predictions: {len(actuals)}\")\n",
    "print(f\"User-User CF RMSE: {uu_rmse:.4f}\")\n",
    "print(f\"NMF RMSE: {nmf_rmse:.4f}\")\n",
    "\n",
    "# Show some example predictions\n",
    "print(\"\\nSample predictions:\")\n",
    "print(\"User ID  Movie ID  Actual  User-User  NMF\")\n",
    "print(\"-\" * 50)\n",
    "for i in range(min(5, len(actuals))):\n",
    "    print(f\"{test_data.iloc[i]['user_id']:7d}  \"\n",
    "          f\"{test_data.iloc[i]['movie_id']:8d}  \"\n",
    "          f\"{actuals[i]:6.1f}  \"\n",
    "          f\"{uu_predictions[i]:9.2f}  \"\n",
    "          f\"{nmf_predictions[i]:6.2f}\")"
   ]
  }
 ],
 "metadata": {
  "kernelspec": {
   "display_name": "Python 3 (ipykernel)",
   "language": "python",
   "name": "python3"
  },
  "language_info": {
   "codemirror_mode": {
    "name": "ipython",
    "version": 3
   },
   "file_extension": ".py",
   "mimetype": "text/x-python",
   "name": "python",
   "nbconvert_exporter": "python",
   "pygments_lexer": "ipython3",
   "version": "3.12.7"
  }
 },
 "nbformat": 4,
 "nbformat_minor": 5
}
