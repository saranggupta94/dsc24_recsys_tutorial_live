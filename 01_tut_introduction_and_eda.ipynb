{
 "cells": [
  {
   "cell_type": "markdown",
   "id": "475d366a-4bc8-4b50-af2e-06da44d03130",
   "metadata": {},
   "source": [
    "### What is MovieLens?\n",
    "\n",
    "MovieLens is a recommender system that was developed by GroupLens, a computer science research lab at the University of Minnesota. It recommends movies to its users based on their movie ratings. It is also a dataset that is widely used in research and teaching contexts. "
   ]
  },
  {
   "cell_type": "markdown",
   "id": "80fc073e-9fd0-4fa6-bd2f-666427f2f0aa",
   "metadata": {},
   "source": [
    "### Tutorial Outline\n",
    "\n",
    "This tutorial is broken down into several steps, starting with loading the data and exploratory data analysis. We will then explore different recommendation techniques including popularity-based, content-based filtering, collaborative filtering, two-tower neural networks and using large language models."
   ]
  },
  {
   "cell_type": "markdown",
   "id": "f682edc3-6585-4ecd-acdb-c59421183d97",
   "metadata": {},
   "source": [
    "### Chapter 1: Load Data and Exploratory Data Analysis (EDA)"
   ]
  },
  {
   "cell_type": "code",
   "execution_count": null,
   "id": "496a10cd-9a9a-4a40-86cc-5eff23a7f3d1",
   "metadata": {},
   "outputs": [],
   "source": [
    "import warnings\n",
    "import pandas as pd\n",
    "import numpy as np\n",
    "import matplotlib.pyplot as plt\n",
    "\n",
    "# Suppress FutureWarnings\n",
    "warnings.filterwarnings('ignore', category=FutureWarning)\n",
    "pd.set_option('display.float_format', lambda x: '%.0f' % x)\n",
    "\n",
    "# Reading ratings file\n",
    "ratings = pd.read_csv('data-1m/ratings.csv', \n",
    "                    sep=_______, # What's the separator?\n",
    "                    encoding='latin-1',\n",
    "                    engine='python',\n",
    "                    index_col=0\n",
    "                     ) \n",
    "\n",
    "# Reading users file\n",
    "users = pd.read_csv('data-1m/users.csv', \n",
    "                    sep=_______,\n",
    "                    encoding='latin-1',\n",
    "                    engine='python',\n",
    "                    index_col=0\n",
    "                     )\n",
    "\n",
    "# Reading movies file\n",
    "movies = pd.read_csv('data-1m/movies.csv', \n",
    "                    sep=_______,\n",
    "                    encoding='latin-1',\n",
    "                    engine='python',\n",
    "                    index_col=0\n",
    "                     ) "
   ]
  },
  {
   "cell_type": "markdown",
   "id": "ac3adec1-538a-46c7-a230-48483aa98c2e",
   "metadata": {},
   "source": [
    "### Movies Dataset"
   ]
  },
  {
   "cell_type": "code",
   "execution_count": null,
   "id": "42012453-5568-4ccf-9e21-41a36acc30d7",
   "metadata": {},
   "outputs": [],
   "source": [
    "# Print the first 5 rows\n",
    "_______"
   ]
  },
  {
   "cell_type": "code",
   "execution_count": null,
   "id": "c96dc457-7250-4288-b284-7cc0ff2d9e17",
   "metadata": {},
   "outputs": [],
   "source": [
    "# Inspect the dataset\n",
    "_______"
   ]
  },

  {
   "cell_type": "code",
   "execution_count": null,
   "id": "2e76e2fa-ed0d-45fb-9d79-572c892bbd29",
   "metadata": {},
   "outputs": [],
   "source": [
    "# Import the wordcloud library\n",
    "_______\n",
    "from wordcloud import WordCloud, STOPWORDS\n",
    "\n",
    "# Create a wordcloud of the movie titles\n",
    "movies['title'] = movies['title'].fillna(\"\").astype('str')\n",
    "title_corpus = ' '.join(movies['title'])\n",
    "title_wordcloud = WordCloud(stopwords=STOPWORDS, background_color='white', height=2000, width=4000).generate(_______)\n",
    "\n",
    "# Plot the wordcloud\n",
    "plt.figure(figsize=(16,8))\n",
    "plt.imshow(_______)\n",
    "plt.axis('off')\n",
    "plt.show()"
   ]
  },
  {
   "cell_type": "code",
   "execution_count": null,
   "id": "6292eebf-6475-4e1c-9f1d-d09ad95ae594",
   "metadata": {},
   "outputs": [],
   "source": [
    "import seaborn as sns\n",
    "all_genres = movies['genres'].str.split('|').explode()\n",
    "\n",
    "# Count the frequency of each genre\n",
    "genre_counts = _______\n",
    "\n",
    "# Create a bar plot using seaborn\n",
    "plt.figure(figsize=(12, 6))\n",
    "sns.barplot(x=genre_counts.values, y=_______ , palette='viridis')\n",
    "plt.title('Distribution of Movie Genres')\n",
    "plt.xlabel('Number of Movies')\n",
    "plt.ylabel('Genre')\n",
    "plt.grid(axis='x', linestyle='--', alpha=0.7)\n",
    "plt.tight_layout()\n",
    "plt.show()"
   ]
  },
  {
   "cell_type": "markdown",
   "id": "c53353c3-5a20-4661-bcdb-016bd142212d",
   "metadata": {},
   "source": [
    "### Users Dataset"
   ]
  },
  {
   "cell_type": "code",
   "execution_count": null,
   "id": "aa7b36af-e66d-4d01-a42c-704686d8ad63",
   "metadata": {},
   "outputs": [],
   "source": [
    "#Inspect the users dataframe\n",
    "_______"
   ]
  },
  {
   "cell_type": "code",
   "execution_count": null,
   "id": "0579816e-456e-4244-962a-42a50aaf13fb",
   "metadata": {},
   "outputs": [],
   "source": [
    "#Inspect the dataset\n",
    "_______"
   ]
  },
  {
   "cell_type": "code",
   "execution_count": null,
   "id": "f2730743-8d4e-49d7-b43e-f0d34e1a018b",
   "metadata": {},
   "outputs": [],
   "source": [
    "# Create a figure with subplots\n",
    "fig = plt.figure(figsize=(20, 12))\n",
    "\n",
    "# 1. Gender Distribution\n",
    "plt.subplot(2, 2, 1)\n",
    "gender_dist = users['gender']._______\n",
    "sns.barplot(x=_______, y=gender_dist.values)\n",
    "plt.title('Gender Distribution')\n",
    "plt.ylabel('Count')\n",
    "\n",
    "# 3. Age Group Distribution\n",
    "plt.subplot(2, 2, 2) \n",
    "age_desc_dist = users[_______].value_counts()\n",
    "sns.barplot(x=_______, y=_______)\n",
    "plt.title('Age Group Distribution')\n",
    "plt.xlabel('Count')\n",    
    "\n",
    "# 4. Top 10 Occupations\n",
    "plt.subplot(2, 2, 3)\n",
    "occ_dist = users['occ_desc']._______().head(10)\n",
    "sns.barplot(x=_______, y=_______)\n",
    "plt.title('Top 10 Occupations')\n",
    "plt.xlabel('Count')\n",
    "\n",
    "# 5. Age vs Occupation (Box Plot) #Please make sure to complete this\n",
    "plt.subplot(_______)\n",
    "_______(_______ = users, y='occ_desc', x='age', order=occ_dist.index)\n",
    "plt.title('Age Distribution by Top Occupations')\n",
    "plt.xlabel('Age')\n",
    "\n",
    "plt.tight_layout()\n",
    "plt.show()"
   ]
  },
  {
   "cell_type": "markdown",
   "id": "a6480798-a041-44ae-83e5-dd907a6d29d8",
   "metadata": {},
   "source": [
    "From the charts above, can you describe the age and gender distributions of the MovieLens users?"
   ]
  },
  {
   "cell_type": "markdown",
   "id": "e4c33a3b-8bb1-4e53-8d16-e4b6401264c3",
   "metadata": {},
   "source": [
    "### Ratings Dataset"
   ]
  },
  {
   "cell_type": "code",
   "execution_count": null,
   "id": "b9f58549-e364-4040-9110-63d649cdbb2d",
   "metadata": {},
   "outputs": [],
   "source": [
    "#Inspect the dataset ratings\n",
    "_______"
   ]
  },
  {
   "cell_type": "code",
   "execution_count": null,
   "id": "47c88f2b-3a93-43be9-82a3-055d2dd2be39",
   "metadata": {},
   "outputs": [],
   "source": [
    "ratings = ratings.drop(columns=_______)\n",
    "_______"
   ]
  },
  {
   "cell_type": "code",
   "execution_count": null,
   "id": "c0d8e7ca-75d8-4927-8867-448309b0b9af",
   "metadata": {},
   "outputs": [],
   "source": [
    "#Inspect the dataframe\n",
    "_______"
   ]
  },
  {
   "cell_type": "code",
   "execution_count": null,
   "id": "f44bcbd2-0457-42eb-a941-22a94ed235be",
   "metadata": {},
   "outputs": [],
   "source": [
    "# What is the distribution of the ratings?\n",
    "_ = plt.hist(ratings[_______], bins=20)\n",
    "plt.title('Histogram of Ratings')\n",
    "plt.xlabel('Rating')\n",
    "plt.ylabel('Frequency')\n",
    "plt.show()"
   ]
  },
  {
   "cell_type": "code",
   "execution_count": null,
   "id": "f453f664-a8ce-4c97-b798-4b25a6d7ba53",
   "metadata": {},
   "outputs": [],
   "source": [
    "#Describe the ratings\n",
    "print(_______.describe())"
   ]
  },
  {
   "cell_type": "code",
   "execution_count": null,
   "id": "3aaed1b4-b873-43c2-b431-5a2568db917c",
   "metadata": {},
   "outputs": [],
   "source": [
    
    "#Merge the datasets\n",
    "df = pd.merge(pd.merge(_______, _______),_______)\n",
    "df._______\n",
    "\n",
    "#Saving the dataset\n",
    "df.to_csv('data-1m/dataset_combined.csv', index=False)"
   ]
  }
 ],
 "metadata": {
  "kernelspec": {
   "display_name": "Python 3 (ipykernel)",
   "language": "python",
   "name": "python3"
  },
  "language_info": {
   "codemirror_mode": {
    "name": "ipython",
    "version": 3
   },
   "file_extension": ".py",
   "mimetype": "text/x-python",
   "name": "python",
   "nbconvert_exporter": "python",
   "pygments_lexer": "ipython3",
   "version": "3.12.7"
  }
 },
 "nbformat": 4,
 "nbformat_minor": 5
}