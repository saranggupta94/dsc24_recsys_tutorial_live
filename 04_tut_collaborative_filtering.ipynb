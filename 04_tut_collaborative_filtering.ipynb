{
 "cells": [
  {
   "cell_type": "markdown",
   "id": "c5289417-c367-40b5-9c74-f51a0e7498c5",
   "metadata": {},
   "source": [
    "### Chapter 3: (ML) Collaborative Filtering"
   ]
  },
  {
   "cell_type": "code",
   "execution_count": 1,
   "id": "7ef6e140-2740-4cba-b7b0-7f2669eb2db4",
   "metadata": {},
   "outputs": [],
   "source": [
    "import pandas as pd\n",
    "import numpy as np\n",
    "from sklearn.metrics.pairwise import ______ # Import cosine_similarity\n",
    "from sklearn.metrics import ______ # Import mean_squared_error\n",
    "from scipy.sparse.linalg import svds\n",
    "from sklearn.decomposition import ______"
   ]
  },
  {
   "cell_type": "code",
   "execution_count": 2,
   "id": "bb438b86-6d84-45f5-89bb-bebb74084c7e",
   "metadata": {},
   "outputs": [],
   "source": [
    "# Reading ratings file\n",
    "ratings = pd.read_csv('data-1m/ratings.csv', \n",
    "                    sep='\\t', #Note that the separator here is \"\\t\"\n",
    "                    encoding='latin-1',\n",
    "                    engine='python',\n",
    "                    index_col=0\n",
    "                     ) \n",
    "\n",
    "# Reading users file\n",
    "users = pd.read_csv('data-1m/users.csv', \n",
    "                    sep='\\t', #Note that the separator here is \"\\t\"\n",
    "                    encoding='latin-1',\n",
    "                    engine='python',\n",
    "                    index_col=0\n",
    "                     )\n",
    "\n",
    "# Reading movies file\n",
    "movies = pd.read_csv('data-1m/movies.csv', \n",
    "                    sep='\\t', #Note that the separator here is \"\\t\"\n",
    "                    encoding='latin-1',\n",
    "                    engine='python',\n",
    "                    index_col=0\n",
    "                     )\n",
    "\n",
    "#Reading the combined file (already prepared for your convenience)\n",
    "combined = pd.read_csv('data-1m/dataset_combined.csv')"
   ]
  },
  {
   "cell_type": "code",
   "execution_count": 3,
   "id": "1daa4b99-4305-4469-8adc-6ad949c980ee",
   "metadata": {},
   "outputs": [],
   "source": [
    "combined.______()" 
   ]
  },
  {
   "cell_type": "markdown",
   "id": "ca9ec02f-d991-4b1a-af93-90f568012004",
   "metadata": {},
   "source": [
    "### Data Preparation"
   ]
  },
  {
   "attachments": {},
   "cell_type": "markdown",
   "id": "11d28ea8-36d8-4aed-b10d-7031000da0d0",
   "metadata": {},
   "source": [
    "Let's first create a **User x Movies matrix**\n",
    "\n",
    "<img src=\"img/Screenshot 2024-11-16 at 10.05.41 PM.png\" width=\"750\">"
   ]
  },
  {
   "cell_type": "code",
   "execution_count": 4,
   "id": "759fbbf2-ed23-42ef-8818-7adf8dc719ca",
   "metadata": {},
   "outputs": [],
   "source": [
    "#Create user-movie rating matrix\n",
    "rating_matrix = combined.pivot(index='______', columns='______', values='______').fillna(0)"
   ]
  },
  {
   "cell_type": "code",
   "execution_count": 5,
   "id": "30e37424-de5f-4407-9d65-65fee67a3ca4",
   "metadata": {},
   "outputs": [],
   "source": [
    "#Let's print the head of the ratings matrix\n",
    "______.______()"
   ]
  },
  {
   "cell_type": "markdown",
   "id": "d4c39500-c9b2-4ef6-881e-358df401f08b",
   "metadata": {},
   "source": [
    "### User-User Collaborative Filtering"
   ]
  },
  {
   "attachments": {},
   "cell_type": "markdown",
   "id": "0931860a-7923-4ce1-b065-58fff5b9ceb1",
   "metadata": {},
   "source": [
    "Here we find look alike users based on similarity and recommend movies which first user’s look-alike has chosen in past. This algorithm is very effective but takes a lot of time and resources. It requires to compute every user pair information which takes time. Therefore, for big base platforms, this algorithm is hard to implement without a very strong parallelizable system.\n",
    "\n",
    "<img src=\"img/ub.png\" width=\"300\">"
   ]
  },
  {
   "cell_type": "code",
   "execution_count": 9,
   "id": "461bc719-8ce1-4107-b5a0-5794e483b4b7",
   "metadata": {},
   "outputs": [],
   "source": [
    "# Calculate user-user similarity matrix\n",
    "user_similarity = ______(rating_matrix)"
   ]
  },
  {
   "cell_type": "code",
   "execution_count": 10,
   "id": "0813370e-2905-41f8-9ab5-6200205d84ac",
   "metadata": {},
   "outputs": [],
   "source": [
    "# ______ DataFrame for user similarity\n",
    "user_similarity_df = pd.DataFrame(\n",
    "    user_similarity,\n",
    "    index=rating_matrix.index,\n",
    "    columns=rating_matrix.index\n",
    ")"
   ]
  },
  {
   "cell_type": "code",
   "execution_count": 11,
   "id": "d02c62d6-5c2d-44e1-a807-9ed845c71f43",
   "metadata": {},
   "outputs": [],
   "source": [
    "______.______()"
   ]
  },
  {
   "cell_type": "code",
   "execution_count": 12,
   "id": "b9178be3-6c61-4205-be0b-412d9a622d37",
   "metadata": {},
   "outputs": [],
   "source": [
    "# Find similar users\n",
    "n_similar_users = ______\n",
    "user_id = 1\n",
    "similar_users = user_similarity_df[user_id].sort_values(ascending=False)[1:n_similar_users+1]\n",
    "\n",
    "# Get ratings from similar users\n",
    "similar_user_ratings = rating_matrix.loc[similar_users.index]\n",
    "\n",
    "# Calculate weighted average of ratings\n",
    "weights = similar_users.values.reshape(-1, 1)\n",
    "weighted_ratings = (similar_user_ratings * weights).______(axis=0)\n",
    "norm_weights = weights.______()\n",
    "\n",
    "predicted_ratings = weighted_ratings / norm_weights"
   ]
  },
  {
   "cell_type": "code",
   "execution_count": 13,
   "id": "a2727e07-35cb-4485-a4db-49847297a976",
   "metadata": {},
   "outputs": [],
   "source": [
    "# Drop movies already rated by user 1\n",
    "predicted_ratings = predicted_ratings.drop(columns = ratings[ratings['user_id'] == 1]['movie_id'].values)\n",
    "predicted_ratings"
   ]
  },
  {
   "cell_type": "code",
   "execution_count": 14,
   "id": "6a9b93bf-21dd-4c96-b504-23c221ee1aef",
   "metadata": {},
   "outputs": [],
   "source": [
    "# Get top recommendations\n",
    "n_recommendations = ______\n",
    "top_recommendations = predicted_ratings.sort_values(ascending=False)[:n_recommendations]\n",
    "\n",
    "print(\"-\" * 60)\n",
    "print(f\"{'Movie Title':<50} Similarity\")\n",
    "print(\"-\" * 60)\n",
    "\n",
    "for movie_id, pred_rating in top_recommendations.items():\n",
    "    print(f\"{movies[movies['movie_id'] == movie_id]['title'].values[0]}                 {pred_rating:.2f}\")"
   ]
  },
  {
   "cell_type": "markdown",
   "id": "54ced2dd-f288-431d-8468-968716194733",
   "metadata": {},
   "source": [
    "### Item-Item Collaborative Filtering"
   ]
  },
  {
   "cell_type": "markdown",
   "id": "5705e4f0-f008-45ae-b5a2-bd0ab2e077e6",
   "metadata": {},
   "source": [
    "We try finding movie's look-alike. Once we have movie's look-alike matrix, we can easily recommend alike movies to user who have rated any movie from the dataset. This algorithm is far less resource consuming than user-user collaborative filtering. Hence, for a new user, the algorithm takes far lesser time than user-user collaborate as we don’t need all similarity scores between users. And with fixed number of movies, movie-movie look alike matrix is fixed over time.\n",
    "\n",
    "<img src=\"img/ib.png\" width=\"300\">"
   ]
  },
  {
   "cell_type": "code",
   "execution_count": 6,
   "id": "e2079ed7-6d30-48cd-9920-8f71598255d8",
   "metadata": {},
   "outputs": [],
   "source": [
    "# Calculate item-item similarity matrix using ______ similarity\n",
    "item_similarity = ______(rating_matrix.T)\n",
    "\n",
    "# Create DataFrame for item similarity\n",
    "item_similarity_df = pd.DataFrame(\n",
    "    item_similarity,\n",
    "    index=rating_matrix.columns,\n",
    "    columns=rating_matrix.columns\n",
    ")"
   ]
  },
  {
   "cell_type": "code",
   "execution_count": 7,
   "id": "4ff1a295-b3ec-454f-bcb8-517a6f6c256e",
   "metadata": {},
   "outputs": [],
   "source": [
    "______.______()"
   ]
  },
  {
   "cell_type": "code",
   "execution_count": 8,
   "id": "eab8e91f-7dce-4ec5-a0bf-a8124991910a",
   "metadata": {},
   "outputs": [],
   "source": [
    "# Get similarity scores for the movie\n",
    "n_similar = ______\n",
    "movie_id = ______\n",
    "similar_scores = item_similarity_df[movie_id]\n",
    "\n",
    "# Sort similarities in ______ order (excluding the movie itself)\n",
    "similar_movies = similar_scores.sort_values(ascending=False)[1:n_similar+1]\n",
    "\n",
    "# Print header\n",
    "print(f\"\\nMovies similar to '{movies[movies['movie_id'] == movie_id]['title'].values[0]}':\")\n",
    "print(\"-\" * 60)\n",
    "print(f\"{'Movie Title':<50} Similarity\")\n",
    "print(\"-\" * 60)\n",
    "\n",
    "# Print each similar movie \n",
    "for movie_id, similarity in similar_movies.items():\n",
    "    print(f\"{movies[movies['movie_id'] == movie_id]['title'].values[0]}                          {similarity:.3f}\")"
   ]
  },
  {
   "cell_type": "markdown",
   "id": "7fd40475-df67-4a7b-953e-607fc87bcf37",
   "metadata": {},
   "source": [
    "### Matrix Factorization"
   ]
  },
  {
   "attachments": {},
   "cell_type": "markdown",
   "id": "4ca2a084-fc13-484e-91c5-d52371c8abfa",
   "metadata": {},
   "source": [
    "<img src=\"img/Screenshot 2024-11-16 at 10.06.05 PM.png\" width=\"750\">"
   ]
  },
  {
   "cell_type": "code",
   "execution_count": 18,
   "id": "21eb2e5a-d294-431f-b736-19b39cc637b9",
   "metadata": {},
   "outputs": [],
   "source": [
    "# Fill missing values with ______\n",
    "R = rating_matrix.fillna(______).values\n",
    "n_components = 50\n",
    "\n",
    "# Initialize and fit ______\n",
    "model = ______(n_components=n_components, init='random', random_state=0)\n",
    "\n",
    "# Fit the model\n",
    "# W: user latent factor matrix\n",
    "# H: item latent factor matrix\n",
    "W = model.______(R)\n",
    "H = model.______\n",
    "\n",
    "# Reconstruct rating matrix\n",
    "R_pred = np.______(W, H)\n",
    "\n",
    "# Convert to DataFrame for easier handling\n",
    "predicted_ratings = pd.DataFrame(\n",
    "R_pred,\n",
    "index=rating_matrix.index,\n",
    "columns=rating_matrix.columns\n",
    ")"
   ]
  },
  {
   "cell_type": "code",
   "execution_count": 19,
   "id": "f52c4bf3-da30-4558-bdad-f59023f89162",
   "metadata": {},
   "outputs": [],
   "source": [
    "predicted_ratings = predicted_ratings.loc[1]\n",
    "\n",
    "top_recommendations = predicted_ratings.drop(ratings[ratings['user_id'] == 1]['movie_id'].values). \\\n",
    "sort_values(ascending=______)[:n_recommendations]\n",
    "\n",
    "print(\"-\" * 60)\n",
    "print(f\"{'Movie Title':<50} Similarity\")\n",
    "print(\"-\" * 60)\n",
    "\n",
    "for movie_id, pred_rating in top_recommendations.items():\n",
    "    print(f\"{movies[movies['movie_id'] == movie_id]['title'].values[0]}                 {pred_rating:.2f}\")"
   ]
  }
 ],
 "metadata": {
  "kernelspec": {
   "display_name": "Python 3 (ipykernel)",
   "language": "python",
   "name": "python3"
  },
  "language_info": {
   "codemirror_mode": {
    "name": "ipython",
    "version": 3
   },
   "file_extension": ".py",
   "mimetype": "text/x-python",
   "name": "python",
   "nbconvert_exporter": "python",
   "pygments_lexer": "ipython3",
   "version": "3.12.7"
  }
 },
 "nbformat": 4,
 "nbformat_minor": 5
}