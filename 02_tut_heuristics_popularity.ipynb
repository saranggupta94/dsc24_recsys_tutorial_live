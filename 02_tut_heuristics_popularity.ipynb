{
 "cells": [
  {
   "cell_type": "markdown",
   "id": "1e6559a6-05fd-4849-a96b-62bc821a5fa1",
   "metadata": {},
   "source": [
    "### Chapter 2: (Heuristics) Popularity-based recommendations"
   ]
  },
  {
   "cell_type": "code",
   "execution_count": null,
   "id": "22865450-a4b0-41dc-ad24-9fa82438d0b2",
   "metadata": {},
   "outputs": [],
   "source": [
    "#Importing libraries\n",
    "import pandas as pd\n",
    "_______ # Import numpy\n",
    "import matplotlib.pyplot as plt"
   ]
  },
  {
   "cell_type": "code",
   "execution_count": null,
   "id": "f8817ac8-3f50-403b-b178-1ce3f86d5d7c",
   "metadata": {},
   "outputs": [],
   "source": [
    "#Reading the dataset\n",
    "df = pd._______('data-1m/dataset_combined.csv')\n",
    "df.head()"
   ]
  },
  {
   "cell_type": "code",
   "execution_count": null,
   "id": "da6f9a4b-777a-464e-a0b3-4b6b3a75d241",
   "metadata": {},
   "outputs": [],
   "source": [
    "#Finding the movies with the highest median rating\n",
    "popularity_df = df[['title', 'rating']].groupby('_______')['rating'].agg(['median', 'count']).sort_values('median', ascending=False)\n",
    "popularity_df.head(10)"
   ]
  },
  {
   "cell_type": "markdown",
   "id": "9e380368-b5e0-4069-9087-921ead75ff5b",
   "metadata": {},
   "source": [
    "Schlafes Bruder (Brother of Sleep) (1995) has a median rating of 5, but only 1 person has rated it.\n",
    "\n",
    "A better way to evaluating movie popularity is do a **Bayesian Average**. It's commonly used in rating systems (like **IMDb's Top 250**) to provide more reliable rankings when items have varying numbers of ratings.\n",
    "\n",
    "A Bayesian average is a weighted average that helps account for different sample sizes and prevents items with very few ratings from dominating the rankings. "
   ]
  },
  {
   "cell_type": "markdown",
   "id": "950a0094-da89-41c9-814f-c154d84288fa",
   "metadata": {},
   "source": [
    "Here's the Bayesian average formula:\n",
    "\n",
    "$$\n",
    "\\text{Bayesian Average} = \\frac{C \\times M + R \\times v}{M + v}\n",
    "$$\n",
    "\n",
    "Where:\n",
    "- ***C*** = global mean rating\n",
    "- ***M*** = minimum ratings required (threshold)\n",
    "- ***R*** = mean rating for the item\n",
    "- ***v*** = number of ratings for the item\n",
    "\n",
    "In probabilistic terms, this is essentially a weighted average between the prior (global mean) and the observed data (item's mean rating), where the weights are determined by the minimum ratings threshold and the number of votes."
   ]
  },
  {
   "cell_type": "code",
   "execution_count": null,
   "id": "5e70a0aa-0ef3-4ac7-9b9a-959f1bbb30f8",
   "metadata": {},
   "outputs": [],
   "source": [
    "def calculate_bayesian_avg(df, C, M):\n",
    "    \"\"\"\n",
    "    Calculate Bayesian average for movies\n",
    "    df: DataFrame with 'median' and 'count' columns\n",
    "    C: prior mean (global mean rating)\n",
    "    M: minimum votes required\n",
    "    \"\"\"\n",
    "    return (C * M + df['median'] * df['_______']) / (M + df['count'])\n",
    "\n",
    "# Calculate global mean (C)\n",
    "C = popularity_df['median']._______()\n",
    "\n",
    "# Set minimum votes threshold (M)\n",
    "# Using a reasonable threshold based on your data, \n",
    "# let's say the 25th percentile of vote counts\n",
    "M = popularity_df['count']._______(0.25)\n",
    "\n",
    "# Add Bayesian average to the dataframe\n",
    "popularity_df['bayesian_avg'] = calculate_bayesian_avg(popularity_df, C, M)"
   ]
  },
  {
   "cell_type": "code",
   "execution_count": null,
   "id": "5440c445-fc4e-4e76-9e80-6280c2823d7d",
   "metadata": {},
   "outputs": [],
   "source": [
    "#Let's now look at the most popular movies\n",
    "popularity_df = popularity_df.sort_values('_______', ascending = False).reset_index()\n",
    "popularity_df.head(10)"
   ]
  },
  {
   "cell_type": "code",
   "execution_count": null,
   "id": "c97fa1c8-f6c3-4d3e-9bcf-c7c4c29c9a14",
   "metadata": {},
   "outputs": [],
   "source": [
    "popularity_df[popularity_df['title'] == 'Schlafes Bruder (Brother of Sleep) (1995)']"
   ]
  },
  {
   "cell_type": "markdown",
   "id": "c997c647-06b6-45f7-8815-66b9cdb4115c",
   "metadata": {},
   "source": [
    "Schlafes Bruder (Brother of Sleep) (1995) now has a bayesian avg of 3, and all the top movies that we se are the classics of late 19th century."
   ]
  },
  {
   "cell_type": "markdown",
   "id": "4741df57-5b42-4353-ab99-8cb9c569987b",
   "metadata": {},
   "source": [
    "### **Pros:**\n",
    "\n",
    "1. **Ease of Implementation**: Popularity-based systems are simple to set up, requiring only basic metrics like sales or views, making them quick to deploy.\n",
    "\n",
    "2. **Scalability**: They handle large datasets well, suitable for platforms with extensive user bases or item catalogs.\n",
    "\n",
    "3. **Good for New Users**: They provide relevant recommendations for users who haven't yet built up a profile or history.\n",
    "\n",
    "### **Cons:**\n",
    "\n",
    "1. **Lack of Personalization**: Recommendations do not reflect individual preferences, potentially leading to irrelevant suggestions.\n",
    "\n",
    "2. **Over-Promotion of Popular Items**: Popular items might overshadow niche or less known but equally suitable items.\n",
    "\n",
    "3. **Doesn't Address Niche Markets**: Less common interests or tastes might be overlooked, limiting the diversity of recommendations."
   ]
  }
 ],
 "metadata": {
  "kernelspec": {
   "display_name": "Python 3 (ipykernel)",
   "language": "python",
   "name": "python3"
  },
  "language_info": {
   "codemirror_mode": {
    "name": "ipython",
    "version": 3
   },
   "file_extension": ".py",
   "mimetype": "text/x-python",
   "name": "python",
   "nbconvert_exporter": "python",
   "pygments_lexer": "ipython3",
   "version": "3.12.7"
  }
 },
 "nbformat": 4,
 "nbformat_minor": 5
}